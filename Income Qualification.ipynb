{
 "cells": [
  {
   "cell_type": "code",
   "execution_count": 133,
   "id": "4d9145bf",
   "metadata": {},
   "outputs": [],
   "source": [
    "# import the needed libraries\n",
    "import pandas as pd\n",
    "import numpy as np  \n",
    "from sklearn.model_selection import train_test_split\n",
    "from sklearn.ensemble import RandomForestClassifier \n",
    "from sklearn.metrics import accuracy_score,confusion_matrix,f1_score,classification_report\n",
    "from sklearn.model_selection import StratifiedKFold,cross_val_score\n",
    "import warnings\n",
    "warnings.filterwarnings('ignore')"
   ]
  },
  {
   "cell_type": "code",
   "execution_count": 134,
   "id": "4f1ffa54",
   "metadata": {},
   "outputs": [],
   "source": [
    "# Load the train and the test dataset\n",
    "Income_train_df = pd.read_csv('train.csv')\n",
    "Income_test_df = pd.read_csv('test.csv')"
   ]
  },
  {
   "cell_type": "code",
   "execution_count": 135,
   "id": "c6c36bec",
   "metadata": {},
   "outputs": [
    {
     "data": {
      "text/html": [
       "<div>\n",
       "<style scoped>\n",
       "    .dataframe tbody tr th:only-of-type {\n",
       "        vertical-align: middle;\n",
       "    }\n",
       "\n",
       "    .dataframe tbody tr th {\n",
       "        vertical-align: top;\n",
       "    }\n",
       "\n",
       "    .dataframe thead th {\n",
       "        text-align: right;\n",
       "    }\n",
       "</style>\n",
       "<table border=\"1\" class=\"dataframe\">\n",
       "  <thead>\n",
       "    <tr style=\"text-align: right;\">\n",
       "      <th></th>\n",
       "      <th>Id</th>\n",
       "      <th>v2a1</th>\n",
       "      <th>hacdor</th>\n",
       "      <th>rooms</th>\n",
       "      <th>hacapo</th>\n",
       "      <th>v14a</th>\n",
       "      <th>refrig</th>\n",
       "      <th>v18q</th>\n",
       "      <th>v18q1</th>\n",
       "      <th>r4h1</th>\n",
       "      <th>...</th>\n",
       "      <th>SQBescolari</th>\n",
       "      <th>SQBage</th>\n",
       "      <th>SQBhogar_total</th>\n",
       "      <th>SQBedjefe</th>\n",
       "      <th>SQBhogar_nin</th>\n",
       "      <th>SQBovercrowding</th>\n",
       "      <th>SQBdependency</th>\n",
       "      <th>SQBmeaned</th>\n",
       "      <th>agesq</th>\n",
       "      <th>Target</th>\n",
       "    </tr>\n",
       "  </thead>\n",
       "  <tbody>\n",
       "    <tr>\n",
       "      <th>0</th>\n",
       "      <td>ID_279628684</td>\n",
       "      <td>190000.0</td>\n",
       "      <td>0</td>\n",
       "      <td>3</td>\n",
       "      <td>0</td>\n",
       "      <td>1</td>\n",
       "      <td>1</td>\n",
       "      <td>0</td>\n",
       "      <td>NaN</td>\n",
       "      <td>0</td>\n",
       "      <td>...</td>\n",
       "      <td>100</td>\n",
       "      <td>1849</td>\n",
       "      <td>1</td>\n",
       "      <td>100</td>\n",
       "      <td>0</td>\n",
       "      <td>1.000000</td>\n",
       "      <td>0.0</td>\n",
       "      <td>100.0</td>\n",
       "      <td>1849</td>\n",
       "      <td>4</td>\n",
       "    </tr>\n",
       "    <tr>\n",
       "      <th>1</th>\n",
       "      <td>ID_f29eb3ddd</td>\n",
       "      <td>135000.0</td>\n",
       "      <td>0</td>\n",
       "      <td>4</td>\n",
       "      <td>0</td>\n",
       "      <td>1</td>\n",
       "      <td>1</td>\n",
       "      <td>1</td>\n",
       "      <td>1.0</td>\n",
       "      <td>0</td>\n",
       "      <td>...</td>\n",
       "      <td>144</td>\n",
       "      <td>4489</td>\n",
       "      <td>1</td>\n",
       "      <td>144</td>\n",
       "      <td>0</td>\n",
       "      <td>1.000000</td>\n",
       "      <td>64.0</td>\n",
       "      <td>144.0</td>\n",
       "      <td>4489</td>\n",
       "      <td>4</td>\n",
       "    </tr>\n",
       "    <tr>\n",
       "      <th>2</th>\n",
       "      <td>ID_68de51c94</td>\n",
       "      <td>NaN</td>\n",
       "      <td>0</td>\n",
       "      <td>8</td>\n",
       "      <td>0</td>\n",
       "      <td>1</td>\n",
       "      <td>1</td>\n",
       "      <td>0</td>\n",
       "      <td>NaN</td>\n",
       "      <td>0</td>\n",
       "      <td>...</td>\n",
       "      <td>121</td>\n",
       "      <td>8464</td>\n",
       "      <td>1</td>\n",
       "      <td>0</td>\n",
       "      <td>0</td>\n",
       "      <td>0.250000</td>\n",
       "      <td>64.0</td>\n",
       "      <td>121.0</td>\n",
       "      <td>8464</td>\n",
       "      <td>4</td>\n",
       "    </tr>\n",
       "    <tr>\n",
       "      <th>3</th>\n",
       "      <td>ID_d671db89c</td>\n",
       "      <td>180000.0</td>\n",
       "      <td>0</td>\n",
       "      <td>5</td>\n",
       "      <td>0</td>\n",
       "      <td>1</td>\n",
       "      <td>1</td>\n",
       "      <td>1</td>\n",
       "      <td>1.0</td>\n",
       "      <td>0</td>\n",
       "      <td>...</td>\n",
       "      <td>81</td>\n",
       "      <td>289</td>\n",
       "      <td>16</td>\n",
       "      <td>121</td>\n",
       "      <td>4</td>\n",
       "      <td>1.777778</td>\n",
       "      <td>1.0</td>\n",
       "      <td>121.0</td>\n",
       "      <td>289</td>\n",
       "      <td>4</td>\n",
       "    </tr>\n",
       "    <tr>\n",
       "      <th>4</th>\n",
       "      <td>ID_d56d6f5f5</td>\n",
       "      <td>180000.0</td>\n",
       "      <td>0</td>\n",
       "      <td>5</td>\n",
       "      <td>0</td>\n",
       "      <td>1</td>\n",
       "      <td>1</td>\n",
       "      <td>1</td>\n",
       "      <td>1.0</td>\n",
       "      <td>0</td>\n",
       "      <td>...</td>\n",
       "      <td>121</td>\n",
       "      <td>1369</td>\n",
       "      <td>16</td>\n",
       "      <td>121</td>\n",
       "      <td>4</td>\n",
       "      <td>1.777778</td>\n",
       "      <td>1.0</td>\n",
       "      <td>121.0</td>\n",
       "      <td>1369</td>\n",
       "      <td>4</td>\n",
       "    </tr>\n",
       "  </tbody>\n",
       "</table>\n",
       "<p>5 rows × 143 columns</p>\n",
       "</div>"
      ],
      "text/plain": [
       "             Id      v2a1  hacdor  rooms  hacapo  v14a  refrig  v18q  v18q1  \\\n",
       "0  ID_279628684  190000.0       0      3       0     1       1     0    NaN   \n",
       "1  ID_f29eb3ddd  135000.0       0      4       0     1       1     1    1.0   \n",
       "2  ID_68de51c94       NaN       0      8       0     1       1     0    NaN   \n",
       "3  ID_d671db89c  180000.0       0      5       0     1       1     1    1.0   \n",
       "4  ID_d56d6f5f5  180000.0       0      5       0     1       1     1    1.0   \n",
       "\n",
       "   r4h1  ...  SQBescolari  SQBage  SQBhogar_total  SQBedjefe  SQBhogar_nin  \\\n",
       "0     0  ...          100    1849               1        100             0   \n",
       "1     0  ...          144    4489               1        144             0   \n",
       "2     0  ...          121    8464               1          0             0   \n",
       "3     0  ...           81     289              16        121             4   \n",
       "4     0  ...          121    1369              16        121             4   \n",
       "\n",
       "   SQBovercrowding  SQBdependency  SQBmeaned  agesq  Target  \n",
       "0         1.000000            0.0      100.0   1849       4  \n",
       "1         1.000000           64.0      144.0   4489       4  \n",
       "2         0.250000           64.0      121.0   8464       4  \n",
       "3         1.777778            1.0      121.0    289       4  \n",
       "4         1.777778            1.0      121.0   1369       4  \n",
       "\n",
       "[5 rows x 143 columns]"
      ]
     },
     "execution_count": 135,
     "metadata": {},
     "output_type": "execute_result"
    }
   ],
   "source": [
    "# explore the train and test set \n",
    "Income_train_df.head()"
   ]
  },
  {
   "cell_type": "code",
   "execution_count": 136,
   "id": "fc5f92e4",
   "metadata": {},
   "outputs": [
    {
     "data": {
      "text/html": [
       "<div>\n",
       "<style scoped>\n",
       "    .dataframe tbody tr th:only-of-type {\n",
       "        vertical-align: middle;\n",
       "    }\n",
       "\n",
       "    .dataframe tbody tr th {\n",
       "        vertical-align: top;\n",
       "    }\n",
       "\n",
       "    .dataframe thead th {\n",
       "        text-align: right;\n",
       "    }\n",
       "</style>\n",
       "<table border=\"1\" class=\"dataframe\">\n",
       "  <thead>\n",
       "    <tr style=\"text-align: right;\">\n",
       "      <th></th>\n",
       "      <th>Id</th>\n",
       "      <th>v2a1</th>\n",
       "      <th>hacdor</th>\n",
       "      <th>rooms</th>\n",
       "      <th>hacapo</th>\n",
       "      <th>v14a</th>\n",
       "      <th>refrig</th>\n",
       "      <th>v18q</th>\n",
       "      <th>v18q1</th>\n",
       "      <th>r4h1</th>\n",
       "      <th>...</th>\n",
       "      <th>age</th>\n",
       "      <th>SQBescolari</th>\n",
       "      <th>SQBage</th>\n",
       "      <th>SQBhogar_total</th>\n",
       "      <th>SQBedjefe</th>\n",
       "      <th>SQBhogar_nin</th>\n",
       "      <th>SQBovercrowding</th>\n",
       "      <th>SQBdependency</th>\n",
       "      <th>SQBmeaned</th>\n",
       "      <th>agesq</th>\n",
       "    </tr>\n",
       "  </thead>\n",
       "  <tbody>\n",
       "    <tr>\n",
       "      <th>0</th>\n",
       "      <td>ID_2f6873615</td>\n",
       "      <td>NaN</td>\n",
       "      <td>0</td>\n",
       "      <td>5</td>\n",
       "      <td>0</td>\n",
       "      <td>1</td>\n",
       "      <td>1</td>\n",
       "      <td>0</td>\n",
       "      <td>NaN</td>\n",
       "      <td>1</td>\n",
       "      <td>...</td>\n",
       "      <td>4</td>\n",
       "      <td>0</td>\n",
       "      <td>16</td>\n",
       "      <td>9</td>\n",
       "      <td>0</td>\n",
       "      <td>1</td>\n",
       "      <td>2.25</td>\n",
       "      <td>0.25</td>\n",
       "      <td>272.25</td>\n",
       "      <td>16</td>\n",
       "    </tr>\n",
       "    <tr>\n",
       "      <th>1</th>\n",
       "      <td>ID_1c78846d2</td>\n",
       "      <td>NaN</td>\n",
       "      <td>0</td>\n",
       "      <td>5</td>\n",
       "      <td>0</td>\n",
       "      <td>1</td>\n",
       "      <td>1</td>\n",
       "      <td>0</td>\n",
       "      <td>NaN</td>\n",
       "      <td>1</td>\n",
       "      <td>...</td>\n",
       "      <td>41</td>\n",
       "      <td>256</td>\n",
       "      <td>1681</td>\n",
       "      <td>9</td>\n",
       "      <td>0</td>\n",
       "      <td>1</td>\n",
       "      <td>2.25</td>\n",
       "      <td>0.25</td>\n",
       "      <td>272.25</td>\n",
       "      <td>1681</td>\n",
       "    </tr>\n",
       "    <tr>\n",
       "      <th>2</th>\n",
       "      <td>ID_e5442cf6a</td>\n",
       "      <td>NaN</td>\n",
       "      <td>0</td>\n",
       "      <td>5</td>\n",
       "      <td>0</td>\n",
       "      <td>1</td>\n",
       "      <td>1</td>\n",
       "      <td>0</td>\n",
       "      <td>NaN</td>\n",
       "      <td>1</td>\n",
       "      <td>...</td>\n",
       "      <td>41</td>\n",
       "      <td>289</td>\n",
       "      <td>1681</td>\n",
       "      <td>9</td>\n",
       "      <td>0</td>\n",
       "      <td>1</td>\n",
       "      <td>2.25</td>\n",
       "      <td>0.25</td>\n",
       "      <td>272.25</td>\n",
       "      <td>1681</td>\n",
       "    </tr>\n",
       "    <tr>\n",
       "      <th>3</th>\n",
       "      <td>ID_a8db26a79</td>\n",
       "      <td>NaN</td>\n",
       "      <td>0</td>\n",
       "      <td>14</td>\n",
       "      <td>0</td>\n",
       "      <td>1</td>\n",
       "      <td>1</td>\n",
       "      <td>1</td>\n",
       "      <td>1.0</td>\n",
       "      <td>0</td>\n",
       "      <td>...</td>\n",
       "      <td>59</td>\n",
       "      <td>256</td>\n",
       "      <td>3481</td>\n",
       "      <td>1</td>\n",
       "      <td>256</td>\n",
       "      <td>0</td>\n",
       "      <td>1.00</td>\n",
       "      <td>0.00</td>\n",
       "      <td>256.00</td>\n",
       "      <td>3481</td>\n",
       "    </tr>\n",
       "    <tr>\n",
       "      <th>4</th>\n",
       "      <td>ID_a62966799</td>\n",
       "      <td>175000.0</td>\n",
       "      <td>0</td>\n",
       "      <td>4</td>\n",
       "      <td>0</td>\n",
       "      <td>1</td>\n",
       "      <td>1</td>\n",
       "      <td>1</td>\n",
       "      <td>1.0</td>\n",
       "      <td>0</td>\n",
       "      <td>...</td>\n",
       "      <td>18</td>\n",
       "      <td>121</td>\n",
       "      <td>324</td>\n",
       "      <td>1</td>\n",
       "      <td>0</td>\n",
       "      <td>1</td>\n",
       "      <td>0.25</td>\n",
       "      <td>64.00</td>\n",
       "      <td>NaN</td>\n",
       "      <td>324</td>\n",
       "    </tr>\n",
       "  </tbody>\n",
       "</table>\n",
       "<p>5 rows × 142 columns</p>\n",
       "</div>"
      ],
      "text/plain": [
       "             Id      v2a1  hacdor  rooms  hacapo  v14a  refrig  v18q  v18q1  \\\n",
       "0  ID_2f6873615       NaN       0      5       0     1       1     0    NaN   \n",
       "1  ID_1c78846d2       NaN       0      5       0     1       1     0    NaN   \n",
       "2  ID_e5442cf6a       NaN       0      5       0     1       1     0    NaN   \n",
       "3  ID_a8db26a79       NaN       0     14       0     1       1     1    1.0   \n",
       "4  ID_a62966799  175000.0       0      4       0     1       1     1    1.0   \n",
       "\n",
       "   r4h1  ...  age  SQBescolari  SQBage  SQBhogar_total  SQBedjefe  \\\n",
       "0     1  ...    4            0      16               9          0   \n",
       "1     1  ...   41          256    1681               9          0   \n",
       "2     1  ...   41          289    1681               9          0   \n",
       "3     0  ...   59          256    3481               1        256   \n",
       "4     0  ...   18          121     324               1          0   \n",
       "\n",
       "   SQBhogar_nin  SQBovercrowding  SQBdependency  SQBmeaned  agesq  \n",
       "0             1             2.25           0.25     272.25     16  \n",
       "1             1             2.25           0.25     272.25   1681  \n",
       "2             1             2.25           0.25     272.25   1681  \n",
       "3             0             1.00           0.00     256.00   3481  \n",
       "4             1             0.25          64.00        NaN    324  \n",
       "\n",
       "[5 rows x 142 columns]"
      ]
     },
     "execution_count": 136,
     "metadata": {},
     "output_type": "execute_result"
    }
   ],
   "source": [
    "Income_test_df.head()"
   ]
  },
  {
   "cell_type": "code",
   "execution_count": 137,
   "id": "5e3a87f7",
   "metadata": {},
   "outputs": [
    {
     "name": "stdout",
     "output_type": "stream",
     "text": [
      "The shape of the train dataset is:  (9557, 143)\n",
      "The shape of the test dataset is:  (23856, 142)\n"
     ]
    }
   ],
   "source": [
    "print('The shape of the train dataset is: ',Income_train_df.shape)\n",
    "print('The shape of the test dataset is: ',Income_test_df.shape)"
   ]
  },
  {
   "cell_type": "code",
   "execution_count": 138,
   "id": "633419bc",
   "metadata": {},
   "outputs": [
    {
     "name": "stdout",
     "output_type": "stream",
     "text": [
      "<class 'pandas.core.frame.DataFrame'>\n",
      "RangeIndex: 9557 entries, 0 to 9556\n",
      "Data columns (total 143 columns):\n",
      " #    Column           Non-Null Count  Dtype  \n",
      "---   ------           --------------  -----  \n",
      " 0    Id               9557 non-null   object \n",
      " 1    v2a1             2697 non-null   float64\n",
      " 2    hacdor           9557 non-null   int64  \n",
      " 3    rooms            9557 non-null   int64  \n",
      " 4    hacapo           9557 non-null   int64  \n",
      " 5    v14a             9557 non-null   int64  \n",
      " 6    refrig           9557 non-null   int64  \n",
      " 7    v18q             9557 non-null   int64  \n",
      " 8    v18q1            2215 non-null   float64\n",
      " 9    r4h1             9557 non-null   int64  \n",
      " 10   r4h2             9557 non-null   int64  \n",
      " 11   r4h3             9557 non-null   int64  \n",
      " 12   r4m1             9557 non-null   int64  \n",
      " 13   r4m2             9557 non-null   int64  \n",
      " 14   r4m3             9557 non-null   int64  \n",
      " 15   r4t1             9557 non-null   int64  \n",
      " 16   r4t2             9557 non-null   int64  \n",
      " 17   r4t3             9557 non-null   int64  \n",
      " 18   tamhog           9557 non-null   int64  \n",
      " 19   tamviv           9557 non-null   int64  \n",
      " 20   escolari         9557 non-null   int64  \n",
      " 21   rez_esc          1629 non-null   float64\n",
      " 22   hhsize           9557 non-null   int64  \n",
      " 23   paredblolad      9557 non-null   int64  \n",
      " 24   paredzocalo      9557 non-null   int64  \n",
      " 25   paredpreb        9557 non-null   int64  \n",
      " 26   pareddes         9557 non-null   int64  \n",
      " 27   paredmad         9557 non-null   int64  \n",
      " 28   paredzinc        9557 non-null   int64  \n",
      " 29   paredfibras      9557 non-null   int64  \n",
      " 30   paredother       9557 non-null   int64  \n",
      " 31   pisomoscer       9557 non-null   int64  \n",
      " 32   pisocemento      9557 non-null   int64  \n",
      " 33   pisoother        9557 non-null   int64  \n",
      " 34   pisonatur        9557 non-null   int64  \n",
      " 35   pisonotiene      9557 non-null   int64  \n",
      " 36   pisomadera       9557 non-null   int64  \n",
      " 37   techozinc        9557 non-null   int64  \n",
      " 38   techoentrepiso   9557 non-null   int64  \n",
      " 39   techocane        9557 non-null   int64  \n",
      " 40   techootro        9557 non-null   int64  \n",
      " 41   cielorazo        9557 non-null   int64  \n",
      " 42   abastaguadentro  9557 non-null   int64  \n",
      " 43   abastaguafuera   9557 non-null   int64  \n",
      " 44   abastaguano      9557 non-null   int64  \n",
      " 45   public           9557 non-null   int64  \n",
      " 46   planpri          9557 non-null   int64  \n",
      " 47   noelec           9557 non-null   int64  \n",
      " 48   coopele          9557 non-null   int64  \n",
      " 49   sanitario1       9557 non-null   int64  \n",
      " 50   sanitario2       9557 non-null   int64  \n",
      " 51   sanitario3       9557 non-null   int64  \n",
      " 52   sanitario5       9557 non-null   int64  \n",
      " 53   sanitario6       9557 non-null   int64  \n",
      " 54   energcocinar1    9557 non-null   int64  \n",
      " 55   energcocinar2    9557 non-null   int64  \n",
      " 56   energcocinar3    9557 non-null   int64  \n",
      " 57   energcocinar4    9557 non-null   int64  \n",
      " 58   elimbasu1        9557 non-null   int64  \n",
      " 59   elimbasu2        9557 non-null   int64  \n",
      " 60   elimbasu3        9557 non-null   int64  \n",
      " 61   elimbasu4        9557 non-null   int64  \n",
      " 62   elimbasu5        9557 non-null   int64  \n",
      " 63   elimbasu6        9557 non-null   int64  \n",
      " 64   epared1          9557 non-null   int64  \n",
      " 65   epared2          9557 non-null   int64  \n",
      " 66   epared3          9557 non-null   int64  \n",
      " 67   etecho1          9557 non-null   int64  \n",
      " 68   etecho2          9557 non-null   int64  \n",
      " 69   etecho3          9557 non-null   int64  \n",
      " 70   eviv1            9557 non-null   int64  \n",
      " 71   eviv2            9557 non-null   int64  \n",
      " 72   eviv3            9557 non-null   int64  \n",
      " 73   dis              9557 non-null   int64  \n",
      " 74   male             9557 non-null   int64  \n",
      " 75   female           9557 non-null   int64  \n",
      " 76   estadocivil1     9557 non-null   int64  \n",
      " 77   estadocivil2     9557 non-null   int64  \n",
      " 78   estadocivil3     9557 non-null   int64  \n",
      " 79   estadocivil4     9557 non-null   int64  \n",
      " 80   estadocivil5     9557 non-null   int64  \n",
      " 81   estadocivil6     9557 non-null   int64  \n",
      " 82   estadocivil7     9557 non-null   int64  \n",
      " 83   parentesco1      9557 non-null   int64  \n",
      " 84   parentesco2      9557 non-null   int64  \n",
      " 85   parentesco3      9557 non-null   int64  \n",
      " 86   parentesco4      9557 non-null   int64  \n",
      " 87   parentesco5      9557 non-null   int64  \n",
      " 88   parentesco6      9557 non-null   int64  \n",
      " 89   parentesco7      9557 non-null   int64  \n",
      " 90   parentesco8      9557 non-null   int64  \n",
      " 91   parentesco9      9557 non-null   int64  \n",
      " 92   parentesco10     9557 non-null   int64  \n",
      " 93   parentesco11     9557 non-null   int64  \n",
      " 94   parentesco12     9557 non-null   int64  \n",
      " 95   idhogar          9557 non-null   object \n",
      " 96   hogar_nin        9557 non-null   int64  \n",
      " 97   hogar_adul       9557 non-null   int64  \n",
      " 98   hogar_mayor      9557 non-null   int64  \n",
      " 99   hogar_total      9557 non-null   int64  \n",
      " 100  dependency       9557 non-null   object \n",
      " 101  edjefe           9557 non-null   object \n",
      " 102  edjefa           9557 non-null   object \n",
      " 103  meaneduc         9552 non-null   float64\n",
      " 104  instlevel1       9557 non-null   int64  \n",
      " 105  instlevel2       9557 non-null   int64  \n",
      " 106  instlevel3       9557 non-null   int64  \n",
      " 107  instlevel4       9557 non-null   int64  \n",
      " 108  instlevel5       9557 non-null   int64  \n",
      " 109  instlevel6       9557 non-null   int64  \n",
      " 110  instlevel7       9557 non-null   int64  \n",
      " 111  instlevel8       9557 non-null   int64  \n",
      " 112  instlevel9       9557 non-null   int64  \n",
      " 113  bedrooms         9557 non-null   int64  \n",
      " 114  overcrowding     9557 non-null   float64\n",
      " 115  tipovivi1        9557 non-null   int64  \n",
      " 116  tipovivi2        9557 non-null   int64  \n",
      " 117  tipovivi3        9557 non-null   int64  \n",
      " 118  tipovivi4        9557 non-null   int64  \n",
      " 119  tipovivi5        9557 non-null   int64  \n",
      " 120  computer         9557 non-null   int64  \n",
      " 121  television       9557 non-null   int64  \n",
      " 122  mobilephone      9557 non-null   int64  \n",
      " 123  qmobilephone     9557 non-null   int64  \n",
      " 124  lugar1           9557 non-null   int64  \n",
      " 125  lugar2           9557 non-null   int64  \n",
      " 126  lugar3           9557 non-null   int64  \n",
      " 127  lugar4           9557 non-null   int64  \n",
      " 128  lugar5           9557 non-null   int64  \n",
      " 129  lugar6           9557 non-null   int64  \n",
      " 130  area1            9557 non-null   int64  \n",
      " 131  area2            9557 non-null   int64  \n",
      " 132  age              9557 non-null   int64  \n",
      " 133  SQBescolari      9557 non-null   int64  \n",
      " 134  SQBage           9557 non-null   int64  \n",
      " 135  SQBhogar_total   9557 non-null   int64  \n",
      " 136  SQBedjefe        9557 non-null   int64  \n",
      " 137  SQBhogar_nin     9557 non-null   int64  \n",
      " 138  SQBovercrowding  9557 non-null   float64\n",
      " 139  SQBdependency    9557 non-null   float64\n",
      " 140  SQBmeaned        9552 non-null   float64\n",
      " 141  agesq            9557 non-null   int64  \n",
      " 142  Target           9557 non-null   int64  \n",
      "dtypes: float64(8), int64(130), object(5)\n",
      "memory usage: 10.4+ MB\n"
     ]
    }
   ],
   "source": [
    "# Understand the type of data. (dtypes: float64(8), int64(130), object(5))\n",
    "Income_train_df.info(max_cols=143)"
   ]
  },
  {
   "cell_type": "code",
   "execution_count": 139,
   "id": "7187cd87",
   "metadata": {},
   "outputs": [
    {
     "data": {
      "text/plain": [
       "Index(['hacdor', 'rooms', 'hacapo', 'v14a', 'refrig', 'v18q', 'r4h1', 'r4h2',\n",
       "       'r4h3', 'r4m1',\n",
       "       ...\n",
       "       'area1', 'area2', 'age', 'SQBescolari', 'SQBage', 'SQBhogar_total',\n",
       "       'SQBedjefe', 'SQBhogar_nin', 'agesq', 'Target'],\n",
       "      dtype='object', length=130)"
      ]
     },
     "execution_count": 139,
     "metadata": {},
     "output_type": "execute_result"
    }
   ],
   "source": [
    "# columns of Integer Type:\n",
    "Income_train_df.select_dtypes(np.int64).columns"
   ]
  },
  {
   "cell_type": "code",
   "execution_count": 140,
   "id": "313a211f",
   "metadata": {},
   "outputs": [
    {
     "data": {
      "text/plain": [
       "Index(['v2a1', 'v18q1', 'rez_esc', 'meaneduc', 'overcrowding',\n",
       "       'SQBovercrowding', 'SQBdependency', 'SQBmeaned'],\n",
       "      dtype='object')"
      ]
     },
     "execution_count": 140,
     "metadata": {},
     "output_type": "execute_result"
    }
   ],
   "source": [
    "# columns of Float Type:\n",
    "Income_train_df.select_dtypes(np.float64).columns"
   ]
  },
  {
   "cell_type": "code",
   "execution_count": 141,
   "id": "c8416601",
   "metadata": {},
   "outputs": [
    {
     "data": {
      "text/plain": [
       "Index(['Id', 'idhogar', 'dependency', 'edjefe', 'edjefa'], dtype='object')"
      ]
     },
     "execution_count": 141,
     "metadata": {},
     "output_type": "execute_result"
    }
   ],
   "source": [
    "# columns of object Type:\n",
    "Income_train_df.select_dtypes(np.object).columns"
   ]
  },
  {
   "cell_type": "code",
   "execution_count": 142,
   "id": "cbaeb893",
   "metadata": {},
   "outputs": [
    {
     "name": "stdout",
     "output_type": "stream",
     "text": [
      "<class 'pandas.core.frame.DataFrame'>\n",
      "RangeIndex: 23856 entries, 0 to 23855\n",
      "Data columns (total 142 columns):\n",
      " #    Column           Non-Null Count  Dtype  \n",
      "---   ------           --------------  -----  \n",
      " 0    Id               23856 non-null  object \n",
      " 1    v2a1             6453 non-null   float64\n",
      " 2    hacdor           23856 non-null  int64  \n",
      " 3    rooms            23856 non-null  int64  \n",
      " 4    hacapo           23856 non-null  int64  \n",
      " 5    v14a             23856 non-null  int64  \n",
      " 6    refrig           23856 non-null  int64  \n",
      " 7    v18q             23856 non-null  int64  \n",
      " 8    v18q1            5730 non-null   float64\n",
      " 9    r4h1             23856 non-null  int64  \n",
      " 10   r4h2             23856 non-null  int64  \n",
      " 11   r4h3             23856 non-null  int64  \n",
      " 12   r4m1             23856 non-null  int64  \n",
      " 13   r4m2             23856 non-null  int64  \n",
      " 14   r4m3             23856 non-null  int64  \n",
      " 15   r4t1             23856 non-null  int64  \n",
      " 16   r4t2             23856 non-null  int64  \n",
      " 17   r4t3             23856 non-null  int64  \n",
      " 18   tamhog           23856 non-null  int64  \n",
      " 19   tamviv           23856 non-null  int64  \n",
      " 20   escolari         23856 non-null  int64  \n",
      " 21   rez_esc          4203 non-null   float64\n",
      " 22   hhsize           23856 non-null  int64  \n",
      " 23   paredblolad      23856 non-null  int64  \n",
      " 24   paredzocalo      23856 non-null  int64  \n",
      " 25   paredpreb        23856 non-null  int64  \n",
      " 26   pareddes         23856 non-null  int64  \n",
      " 27   paredmad         23856 non-null  int64  \n",
      " 28   paredzinc        23856 non-null  int64  \n",
      " 29   paredfibras      23856 non-null  int64  \n",
      " 30   paredother       23856 non-null  int64  \n",
      " 31   pisomoscer       23856 non-null  int64  \n",
      " 32   pisocemento      23856 non-null  int64  \n",
      " 33   pisoother        23856 non-null  int64  \n",
      " 34   pisonatur        23856 non-null  int64  \n",
      " 35   pisonotiene      23856 non-null  int64  \n",
      " 36   pisomadera       23856 non-null  int64  \n",
      " 37   techozinc        23856 non-null  int64  \n",
      " 38   techoentrepiso   23856 non-null  int64  \n",
      " 39   techocane        23856 non-null  int64  \n",
      " 40   techootro        23856 non-null  int64  \n",
      " 41   cielorazo        23856 non-null  int64  \n",
      " 42   abastaguadentro  23856 non-null  int64  \n",
      " 43   abastaguafuera   23856 non-null  int64  \n",
      " 44   abastaguano      23856 non-null  int64  \n",
      " 45   public           23856 non-null  int64  \n",
      " 46   planpri          23856 non-null  int64  \n",
      " 47   noelec           23856 non-null  int64  \n",
      " 48   coopele          23856 non-null  int64  \n",
      " 49   sanitario1       23856 non-null  int64  \n",
      " 50   sanitario2       23856 non-null  int64  \n",
      " 51   sanitario3       23856 non-null  int64  \n",
      " 52   sanitario5       23856 non-null  int64  \n",
      " 53   sanitario6       23856 non-null  int64  \n",
      " 54   energcocinar1    23856 non-null  int64  \n",
      " 55   energcocinar2    23856 non-null  int64  \n",
      " 56   energcocinar3    23856 non-null  int64  \n",
      " 57   energcocinar4    23856 non-null  int64  \n",
      " 58   elimbasu1        23856 non-null  int64  \n",
      " 59   elimbasu2        23856 non-null  int64  \n",
      " 60   elimbasu3        23856 non-null  int64  \n",
      " 61   elimbasu4        23856 non-null  int64  \n",
      " 62   elimbasu5        23856 non-null  int64  \n",
      " 63   elimbasu6        23856 non-null  int64  \n",
      " 64   epared1          23856 non-null  int64  \n",
      " 65   epared2          23856 non-null  int64  \n",
      " 66   epared3          23856 non-null  int64  \n",
      " 67   etecho1          23856 non-null  int64  \n",
      " 68   etecho2          23856 non-null  int64  \n",
      " 69   etecho3          23856 non-null  int64  \n",
      " 70   eviv1            23856 non-null  int64  \n",
      " 71   eviv2            23856 non-null  int64  \n",
      " 72   eviv3            23856 non-null  int64  \n",
      " 73   dis              23856 non-null  int64  \n",
      " 74   male             23856 non-null  int64  \n",
      " 75   female           23856 non-null  int64  \n",
      " 76   estadocivil1     23856 non-null  int64  \n",
      " 77   estadocivil2     23856 non-null  int64  \n",
      " 78   estadocivil3     23856 non-null  int64  \n",
      " 79   estadocivil4     23856 non-null  int64  \n",
      " 80   estadocivil5     23856 non-null  int64  \n",
      " 81   estadocivil6     23856 non-null  int64  \n",
      " 82   estadocivil7     23856 non-null  int64  \n",
      " 83   parentesco1      23856 non-null  int64  \n",
      " 84   parentesco2      23856 non-null  int64  \n",
      " 85   parentesco3      23856 non-null  int64  \n",
      " 86   parentesco4      23856 non-null  int64  \n",
      " 87   parentesco5      23856 non-null  int64  \n",
      " 88   parentesco6      23856 non-null  int64  \n",
      " 89   parentesco7      23856 non-null  int64  \n",
      " 90   parentesco8      23856 non-null  int64  \n",
      " 91   parentesco9      23856 non-null  int64  \n",
      " 92   parentesco10     23856 non-null  int64  \n",
      " 93   parentesco11     23856 non-null  int64  \n",
      " 94   parentesco12     23856 non-null  int64  \n",
      " 95   idhogar          23856 non-null  object \n",
      " 96   hogar_nin        23856 non-null  int64  \n",
      " 97   hogar_adul       23856 non-null  int64  \n",
      " 98   hogar_mayor      23856 non-null  int64  \n",
      " 99   hogar_total      23856 non-null  int64  \n",
      " 100  dependency       23856 non-null  object \n",
      " 101  edjefe           23856 non-null  object \n",
      " 102  edjefa           23856 non-null  object \n",
      " 103  meaneduc         23825 non-null  float64\n",
      " 104  instlevel1       23856 non-null  int64  \n",
      " 105  instlevel2       23856 non-null  int64  \n",
      " 106  instlevel3       23856 non-null  int64  \n",
      " 107  instlevel4       23856 non-null  int64  \n",
      " 108  instlevel5       23856 non-null  int64  \n",
      " 109  instlevel6       23856 non-null  int64  \n",
      " 110  instlevel7       23856 non-null  int64  \n",
      " 111  instlevel8       23856 non-null  int64  \n",
      " 112  instlevel9       23856 non-null  int64  \n",
      " 113  bedrooms         23856 non-null  int64  \n",
      " 114  overcrowding     23856 non-null  float64\n",
      " 115  tipovivi1        23856 non-null  int64  \n",
      " 116  tipovivi2        23856 non-null  int64  \n",
      " 117  tipovivi3        23856 non-null  int64  \n",
      " 118  tipovivi4        23856 non-null  int64  \n",
      " 119  tipovivi5        23856 non-null  int64  \n",
      " 120  computer         23856 non-null  int64  \n",
      " 121  television       23856 non-null  int64  \n",
      " 122  mobilephone      23856 non-null  int64  \n",
      " 123  qmobilephone     23856 non-null  int64  \n",
      " 124  lugar1           23856 non-null  int64  \n",
      " 125  lugar2           23856 non-null  int64  \n",
      " 126  lugar3           23856 non-null  int64  \n",
      " 127  lugar4           23856 non-null  int64  \n",
      " 128  lugar5           23856 non-null  int64  \n",
      " 129  lugar6           23856 non-null  int64  \n",
      " 130  area1            23856 non-null  int64  \n",
      " 131  area2            23856 non-null  int64  \n",
      " 132  age              23856 non-null  int64  \n",
      " 133  SQBescolari      23856 non-null  int64  \n",
      " 134  SQBage           23856 non-null  int64  \n",
      " 135  SQBhogar_total   23856 non-null  int64  \n",
      " 136  SQBedjefe        23856 non-null  int64  \n",
      " 137  SQBhogar_nin     23856 non-null  int64  \n",
      " 138  SQBovercrowding  23856 non-null  float64\n",
      " 139  SQBdependency    23856 non-null  float64\n",
      " 140  SQBmeaned        23825 non-null  float64\n",
      " 141  agesq            23856 non-null  int64  \n",
      "dtypes: float64(8), int64(129), object(5)\n",
      "memory usage: 25.8+ MB\n"
     ]
    }
   ],
   "source": [
    "# Understand the type of data. (float64(8), int64(129), object(5))\n",
    "Income_test_df.info(max_cols=142)"
   ]
  },
  {
   "cell_type": "code",
   "execution_count": 143,
   "id": "07104c39",
   "metadata": {},
   "outputs": [
    {
     "data": {
      "text/plain": [
       "4    5996\n",
       "2    1597\n",
       "3    1209\n",
       "1     755\n",
       "Name: Target, dtype: int64"
      ]
     },
     "execution_count": 143,
     "metadata": {},
     "output_type": "execute_result"
    }
   ],
   "source": [
    "# check the output variable.\n",
    "Income_train_df['Target'].value_counts()"
   ]
  },
  {
   "cell_type": "code",
   "execution_count": 144,
   "id": "f1ff6cf6",
   "metadata": {},
   "outputs": [
    {
     "data": {
      "text/plain": [
       "<AxesSubplot:>"
      ]
     },
     "execution_count": 144,
     "metadata": {},
     "output_type": "execute_result"
    },
    {
     "data": {
      "image/png": "[encoded data removed]",
      "text/plain": [
       "<Figure size 648x432 with 1 Axes>"
      ]
     },
     "metadata": {
      "needs_background": "light"
     },
     "output_type": "display_data"
    }
   ],
   "source": [
    "Income_train_df['Target'].value_counts().plot.bar(figsize = (9, 6))"
   ]
  },
  {
   "cell_type": "markdown",
   "id": "3c62cf43",
   "metadata": {},
   "source": [
    "There is biases in the dataset. \n",
    "* 1 = extreme poverty, the smallest count\n",
    "* 2 = moderate poverty\n",
    "* 3 = vulnerable households\n",
    "* 4 = non vulnerable households"
   ]
  },
  {
   "cell_type": "code",
   "execution_count": 145,
   "id": "11551d78",
   "metadata": {},
   "outputs": [
    {
     "data": {
      "text/plain": [
       "idhogar\n",
       "001ff74ca    True\n",
       "003123ec2    True\n",
       "004616164    True\n",
       "004983866    True\n",
       "005905417    True\n",
       "             ... \n",
       "ff9343a35    True\n",
       "ff9d5ab17    True\n",
       "ffae4a097    True\n",
       "ffe90d46f    True\n",
       "fff7d6be1    True\n",
       "Name: Target, Length: 2988, dtype: bool"
      ]
     },
     "execution_count": 145,
     "metadata": {},
     "output_type": "execute_result"
    }
   ],
   "source": [
    "same_level = Income_train_df.groupby('idhogar')['Target'].apply(lambda x: x.nunique() == 1)\n",
    "same_level"
   ]
  },
  {
   "cell_type": "code",
   "execution_count": 146,
   "id": "f8bf9cec",
   "metadata": {},
   "outputs": [
    {
     "data": {
      "text/plain": [
       "False    85\n",
       "Name: Target, dtype: int64"
      ]
     },
     "execution_count": 146,
     "metadata": {},
     "output_type": "execute_result"
    }
   ],
   "source": [
    "# There is 85 houses where all the members of the house doesn't have the same poverty level.\n",
    "not_same_level = same_level[same_level != True]\n",
    "not_same_level.value_counts()"
   ]
  },
  {
   "cell_type": "code",
   "execution_count": 147,
   "id": "8192b425",
   "metadata": {},
   "outputs": [
    {
     "data": {
      "text/plain": [
       "1    2973\n",
       "0      15\n",
       "Name: parentesco1, dtype: int64"
      ]
     },
     "execution_count": 147,
     "metadata": {},
     "output_type": "execute_result"
    }
   ],
   "source": [
    "# there is 15 house without a family head.\n",
    "family_head = Income_train_df.groupby('idhogar')['parentesco1'].sum()\n",
    "family_head.value_counts()"
   ]
  },
  {
   "cell_type": "code",
   "execution_count": 148,
   "id": "58a8aab1",
   "metadata": {},
   "outputs": [],
   "source": [
    "# Set the poverty level of the members and the head of the house same in a family.\n",
    "for household in not_same_level.index: \n",
    "    head_lable = int(Income_train_df[(Income_train_df['idhogar'] == household)&(Income_train_df['parentesco1'] == 1.0)]['Target'])\n",
    "    Income_train_df.loc[Income_train_df['idhogar'] == household, 'Target'] = head_lable"
   ]
  },
  {
   "cell_type": "code",
   "execution_count": 149,
   "id": "cd730fe0",
   "metadata": {},
   "outputs": [
    {
     "data": {
      "text/plain": [
       "v2a1         6860\n",
       "v18q1        7342\n",
       "rez_esc      7928\n",
       "meaneduc        5\n",
       "SQBmeaned       5\n",
       "dtype: int64"
      ]
     },
     "execution_count": 149,
     "metadata": {},
     "output_type": "execute_result"
    }
   ],
   "source": [
    "# Count how many null values are existing in columns.\n",
    "null_values_col = Income_train_df.isna().sum()\n",
    "null_values_col[null_values_col>0] "
   ]
  },
  {
   "cell_type": "markdown",
   "id": "4f3cd93e",
   "metadata": {},
   "source": [
    "### Null values columns:\n",
    "1. v2a1, Monthly rent payment:\n",
    "    * tipovivi1, =1 own and fully paid house (pay = 0)\n",
    "    * tipovivi2, \"=1 own, paying in installments\"\n",
    "    * tipovivi3, =1 rented\n",
    "    * tipovivi4, =1 precarious\n",
    "    * tipovivi5, \"=1 other(assigned, borrowed)\"\n",
    "    \n",
    "    \n",
    "2. v18q1, number of tablets household owns:\n",
    "    * v18q, owns a tablet\n",
    "\n",
    "\n",
    "3. rez_esc, Years behind in school\n",
    "\n",
    "4. meaneduc,average years of education for adults (18+)"
   ]
  },
  {
   "cell_type": "code",
   "execution_count": 150,
   "id": "11e3c019",
   "metadata": {},
   "outputs": [
    {
     "data": {
      "text/html": [
       "<div>\n",
       "<style scoped>\n",
       "    .dataframe tbody tr th:only-of-type {\n",
       "        vertical-align: middle;\n",
       "    }\n",
       "\n",
       "    .dataframe tbody tr th {\n",
       "        vertical-align: top;\n",
       "    }\n",
       "\n",
       "    .dataframe thead th {\n",
       "        text-align: right;\n",
       "    }\n",
       "</style>\n",
       "<table border=\"1\" class=\"dataframe\">\n",
       "  <thead>\n",
       "    <tr style=\"text-align: right;\">\n",
       "      <th></th>\n",
       "      <th>tipovivi5</th>\n",
       "      <th>tipovivi4</th>\n",
       "      <th>tipovivi1</th>\n",
       "    </tr>\n",
       "  </thead>\n",
       "  <tbody>\n",
       "    <tr>\n",
       "      <th>2</th>\n",
       "      <td>0</td>\n",
       "      <td>0</td>\n",
       "      <td>1</td>\n",
       "    </tr>\n",
       "    <tr>\n",
       "      <th>13</th>\n",
       "      <td>0</td>\n",
       "      <td>0</td>\n",
       "      <td>1</td>\n",
       "    </tr>\n",
       "    <tr>\n",
       "      <th>14</th>\n",
       "      <td>0</td>\n",
       "      <td>0</td>\n",
       "      <td>1</td>\n",
       "    </tr>\n",
       "    <tr>\n",
       "      <th>26</th>\n",
       "      <td>0</td>\n",
       "      <td>0</td>\n",
       "      <td>1</td>\n",
       "    </tr>\n",
       "    <tr>\n",
       "      <th>32</th>\n",
       "      <td>0</td>\n",
       "      <td>0</td>\n",
       "      <td>1</td>\n",
       "    </tr>\n",
       "  </tbody>\n",
       "</table>\n",
       "</div>"
      ],
      "text/plain": [
       "    tipovivi5  tipovivi4  tipovivi1\n",
       "2           0          0          1\n",
       "13          0          0          1\n",
       "14          0          0          1\n",
       "26          0          0          1\n",
       "32          0          0          1"
      ]
     },
     "execution_count": 150,
     "metadata": {},
     "output_type": "execute_result"
    }
   ],
   "source": [
    "# 1. v2a1, Monthly rent payment(total null value = 6860)\n",
    "rent_payment = Income_train_df[(Income_train_df['tipovivi5'] == 1) | (Income_train_df['tipovivi4'] == 1)| (Income_train_df['tipovivi1'] == 1)]\n",
    "rent_payment.shape[0]\n",
    "rent_payment[['tipovivi5','tipovivi4','tipovivi1']].head()"
   ]
  },
  {
   "cell_type": "code",
   "execution_count": 151,
   "id": "4626b63e",
   "metadata": {},
   "outputs": [],
   "source": [
    "# value of rent payment is null when the house is owned or precarious or other(assigned, borrowed)\n",
    "# thought replace all null value of the v2a1 columns with 0\n",
    "Income_train_df['v2a1'].fillna(value =0 , inplace =True)"
   ]
  },
  {
   "cell_type": "code",
   "execution_count": 152,
   "id": "05a675c1",
   "metadata": {},
   "outputs": [
    {
     "name": "stdout",
     "output_type": "stream",
     "text": [
      "7342\n"
     ]
    },
    {
     "data": {
      "text/html": [
       "<div>\n",
       "<style scoped>\n",
       "    .dataframe tbody tr th:only-of-type {\n",
       "        vertical-align: middle;\n",
       "    }\n",
       "\n",
       "    .dataframe tbody tr th {\n",
       "        vertical-align: top;\n",
       "    }\n",
       "\n",
       "    .dataframe thead th {\n",
       "        text-align: right;\n",
       "    }\n",
       "</style>\n",
       "<table border=\"1\" class=\"dataframe\">\n",
       "  <thead>\n",
       "    <tr style=\"text-align: right;\">\n",
       "      <th></th>\n",
       "      <th>v18q</th>\n",
       "      <th>v18q1</th>\n",
       "    </tr>\n",
       "  </thead>\n",
       "  <tbody>\n",
       "    <tr>\n",
       "      <th>0</th>\n",
       "      <td>0</td>\n",
       "      <td>NaN</td>\n",
       "    </tr>\n",
       "    <tr>\n",
       "      <th>2</th>\n",
       "      <td>0</td>\n",
       "      <td>NaN</td>\n",
       "    </tr>\n",
       "    <tr>\n",
       "      <th>7</th>\n",
       "      <td>0</td>\n",
       "      <td>NaN</td>\n",
       "    </tr>\n",
       "    <tr>\n",
       "      <th>8</th>\n",
       "      <td>0</td>\n",
       "      <td>NaN</td>\n",
       "    </tr>\n",
       "    <tr>\n",
       "      <th>9</th>\n",
       "      <td>0</td>\n",
       "      <td>NaN</td>\n",
       "    </tr>\n",
       "  </tbody>\n",
       "</table>\n",
       "</div>"
      ],
      "text/plain": [
       "   v18q  v18q1\n",
       "0     0    NaN\n",
       "2     0    NaN\n",
       "7     0    NaN\n",
       "8     0    NaN\n",
       "9     0    NaN"
      ]
     },
     "execution_count": 152,
     "metadata": {},
     "output_type": "execute_result"
    }
   ],
   "source": [
    "# 2. v18q1, number of tablets household owns. (total null value = 7342)\n",
    "# check v18q(owns a tablet, no = 0, yes = 1)\n",
    "num_tablets = Income_train_df[Income_train_df['v18q'] == 0]\n",
    "print(num_tablets.shape[0])\n",
    "num_tablets[['v18q','v18q1']].head()"
   ]
  },
  {
   "cell_type": "code",
   "execution_count": 153,
   "id": "172fe827",
   "metadata": {},
   "outputs": [],
   "source": [
    "# value of number of tablets is null when the household doesn't owns a tablet\n",
    "# thought replace all null value of the v18q1 columns with 0\n",
    "Income_train_df['v18q1'].fillna(value =0 , inplace =True)"
   ]
  },
  {
   "cell_type": "code",
   "execution_count": 154,
   "id": "f1264d3a",
   "metadata": {},
   "outputs": [
    {
     "name": "stdout",
     "output_type": "stream",
     "text": [
      "901\n"
     ]
    },
    {
     "data": {
      "text/plain": [
       "901"
      ]
     },
     "execution_count": 154,
     "metadata": {},
     "output_type": "execute_result"
    }
   ],
   "source": [
    "# 3. rez_esc, Years behind in school. (total null value = 7928) \n",
    "# escolari, years of schooling\n",
    "# age= Age in years \n",
    "schooling_age = Income_train_df[Income_train_df['age'] < 7]\n",
    "print(schooling_age.shape[0]) \n",
    "schooling_age = schooling_age['rez_esc'].isna().sum().sum()\n",
    "schooling_age"
   ]
  },
  {
   "cell_type": "code",
   "execution_count": 155,
   "id": "38acab3d",
   "metadata": {},
   "outputs": [
    {
     "name": "stdout",
     "output_type": "stream",
     "text": [
      "1307\n"
     ]
    },
    {
     "data": {
      "text/plain": [
       "1203"
      ]
     },
     "execution_count": 155,
     "metadata": {},
     "output_type": "execute_result"
    }
   ],
   "source": [
    "schooling_years = Income_train_df[Income_train_df['escolari'] == 0]\n",
    "print(schooling_years.shape[0])\n",
    "schooling_years[['escolari','rez_esc']].head(10)\n",
    "schooling_years = schooling_years['rez_esc'].isna().sum().sum()\n",
    "schooling_years"
   ]
  },
  {
   "cell_type": "code",
   "execution_count": 156,
   "id": "efddca85",
   "metadata": {},
   "outputs": [
    {
     "data": {
      "text/plain": [
       "count    1629.000000\n",
       "mean       12.258441\n",
       "std         3.218325\n",
       "min         7.000000\n",
       "25%         9.000000\n",
       "50%        12.000000\n",
       "75%        15.000000\n",
       "max        17.000000\n",
       "Name: age, dtype: float64"
      ]
     },
     "execution_count": 156,
     "metadata": {},
     "output_type": "execute_result"
    }
   ],
   "source": [
    "behind_school = Income_train_df[Income_train_df['rez_esc'].notnull()]\n",
    "behind_school['age'].describe()"
   ]
  },
  {
   "cell_type": "code",
   "execution_count": 157,
   "id": "48cf6788",
   "metadata": {},
   "outputs": [],
   "source": [
    "Income_train_df['rez_esc'].fillna(value =0 , inplace =True)"
   ]
  },
  {
   "cell_type": "code",
   "execution_count": 158,
   "id": "f08ecbf9",
   "metadata": {},
   "outputs": [
    {
     "name": "stdout",
     "output_type": "stream",
     "text": [
      "5\n"
     ]
    },
    {
     "data": {
      "text/html": [
       "<div>\n",
       "<style scoped>\n",
       "    .dataframe tbody tr th:only-of-type {\n",
       "        vertical-align: middle;\n",
       "    }\n",
       "\n",
       "    .dataframe tbody tr th {\n",
       "        vertical-align: top;\n",
       "    }\n",
       "\n",
       "    .dataframe thead th {\n",
       "        text-align: right;\n",
       "    }\n",
       "</style>\n",
       "<table border=\"1\" class=\"dataframe\">\n",
       "  <thead>\n",
       "    <tr style=\"text-align: right;\">\n",
       "      <th></th>\n",
       "      <th>meaneduc</th>\n",
       "      <th>instlevel1</th>\n",
       "    </tr>\n",
       "  </thead>\n",
       "  <tbody>\n",
       "    <tr>\n",
       "      <th>1291</th>\n",
       "      <td>NaN</td>\n",
       "      <td>0</td>\n",
       "    </tr>\n",
       "    <tr>\n",
       "      <th>1840</th>\n",
       "      <td>NaN</td>\n",
       "      <td>0</td>\n",
       "    </tr>\n",
       "    <tr>\n",
       "      <th>1841</th>\n",
       "      <td>NaN</td>\n",
       "      <td>0</td>\n",
       "    </tr>\n",
       "    <tr>\n",
       "      <th>2049</th>\n",
       "      <td>NaN</td>\n",
       "      <td>0</td>\n",
       "    </tr>\n",
       "    <tr>\n",
       "      <th>2050</th>\n",
       "      <td>NaN</td>\n",
       "      <td>0</td>\n",
       "    </tr>\n",
       "  </tbody>\n",
       "</table>\n",
       "</div>"
      ],
      "text/plain": [
       "      meaneduc  instlevel1\n",
       "1291       NaN           0\n",
       "1840       NaN           0\n",
       "1841       NaN           0\n",
       "2049       NaN           0\n",
       "2050       NaN           0"
      ]
     },
     "execution_count": 158,
     "metadata": {},
     "output_type": "execute_result"
    }
   ],
   "source": [
    "# 4. meaneduc,average years of education for adults (18+) (total null value = 5)\n",
    "# instlevel1, =1 no level of education\n",
    "average_edu_18 = Income_train_df[Income_train_df['meaneduc'].isna()]\n",
    "print(average_edu_18.shape[0])\n",
    "average_edu_18[['meaneduc','instlevel1']].head()"
   ]
  },
  {
   "cell_type": "code",
   "execution_count": 159,
   "id": "18ad1b66",
   "metadata": {},
   "outputs": [],
   "source": [
    "Income_train_df['meaneduc'].fillna(value =0 , inplace =True)"
   ]
  },
  {
   "cell_type": "code",
   "execution_count": 160,
   "id": "90fb7780",
   "metadata": {},
   "outputs": [
    {
     "data": {
      "text/plain": [
       "v2a1         17403\n",
       "v18q1        18126\n",
       "rez_esc      19653\n",
       "meaneduc        31\n",
       "SQBmeaned       31\n",
       "dtype: int64"
      ]
     },
     "execution_count": 160,
     "metadata": {},
     "output_type": "execute_result"
    }
   ],
   "source": [
    "null_values_col_test = Income_test_df.isna().sum()\n",
    "null_values_col_test[null_values_col_test>0]"
   ]
  },
  {
   "cell_type": "code",
   "execution_count": 161,
   "id": "aa66b381",
   "metadata": {},
   "outputs": [],
   "source": [
    "Income_test_df['v2a1'].fillna(value =0 , inplace =True)\n",
    "Income_test_df['v18q1'].fillna(value =0 , inplace =True)\n",
    "Income_test_df['rez_esc'].fillna(value =0 , inplace =True)\n",
    "Income_test_df['meaneduc'].fillna(value =0 , inplace =True)"
   ]
  },
  {
   "cell_type": "code",
   "execution_count": 162,
   "id": "223b197e",
   "metadata": {},
   "outputs": [
    {
     "data": {
      "text/plain": [
       "0"
      ]
     },
     "execution_count": 162,
     "metadata": {},
     "output_type": "execute_result"
    }
   ],
   "source": [
    "# There is zero null value rows of the target variable.\n",
    "Income_train_df['Target'].isna().sum()"
   ]
  },
  {
   "cell_type": "code",
   "execution_count": 163,
   "id": "c8071e97",
   "metadata": {},
   "outputs": [
    {
     "name": "stdout",
     "output_type": "stream",
     "text": [
      "Index(['Id', 'idhogar', 'dependency', 'edjefe', 'edjefa'], dtype='object')\n",
      "Index(['Id', 'idhogar', 'dependency', 'edjefe', 'edjefa'], dtype='object')\n"
     ]
    }
   ],
   "source": [
    "# fix object feature and do ss\n",
    "train_df_object = Income_train_df.select_dtypes(np.object).columns\n",
    "test_df_object = Income_test_df.select_dtypes(np.object).columns\n",
    "print(train_df_object)\n",
    "print(test_df_object)"
   ]
  },
  {
   "cell_type": "code",
   "execution_count": 164,
   "id": "63c6b41e",
   "metadata": {},
   "outputs": [
    {
     "data": {
      "text/html": [
       "<div>\n",
       "<style scoped>\n",
       "    .dataframe tbody tr th:only-of-type {\n",
       "        vertical-align: middle;\n",
       "    }\n",
       "\n",
       "    .dataframe tbody tr th {\n",
       "        vertical-align: top;\n",
       "    }\n",
       "\n",
       "    .dataframe thead th {\n",
       "        text-align: right;\n",
       "    }\n",
       "</style>\n",
       "<table border=\"1\" class=\"dataframe\">\n",
       "  <thead>\n",
       "    <tr style=\"text-align: right;\">\n",
       "      <th></th>\n",
       "      <th>Id</th>\n",
       "      <th>idhogar</th>\n",
       "      <th>dependency</th>\n",
       "      <th>edjefe</th>\n",
       "      <th>edjefa</th>\n",
       "    </tr>\n",
       "  </thead>\n",
       "  <tbody>\n",
       "    <tr>\n",
       "      <th>0</th>\n",
       "      <td>ID_279628684</td>\n",
       "      <td>21eb7fcc1</td>\n",
       "      <td>no</td>\n",
       "      <td>10</td>\n",
       "      <td>no</td>\n",
       "    </tr>\n",
       "    <tr>\n",
       "      <th>1</th>\n",
       "      <td>ID_f29eb3ddd</td>\n",
       "      <td>0e5d7a658</td>\n",
       "      <td>8</td>\n",
       "      <td>12</td>\n",
       "      <td>no</td>\n",
       "    </tr>\n",
       "    <tr>\n",
       "      <th>2</th>\n",
       "      <td>ID_68de51c94</td>\n",
       "      <td>2c7317ea8</td>\n",
       "      <td>8</td>\n",
       "      <td>no</td>\n",
       "      <td>11</td>\n",
       "    </tr>\n",
       "    <tr>\n",
       "      <th>3</th>\n",
       "      <td>ID_d671db89c</td>\n",
       "      <td>2b58d945f</td>\n",
       "      <td>yes</td>\n",
       "      <td>11</td>\n",
       "      <td>no</td>\n",
       "    </tr>\n",
       "    <tr>\n",
       "      <th>4</th>\n",
       "      <td>ID_d56d6f5f5</td>\n",
       "      <td>2b58d945f</td>\n",
       "      <td>yes</td>\n",
       "      <td>11</td>\n",
       "      <td>no</td>\n",
       "    </tr>\n",
       "  </tbody>\n",
       "</table>\n",
       "</div>"
      ],
      "text/plain": [
       "             Id    idhogar dependency edjefe edjefa\n",
       "0  ID_279628684  21eb7fcc1         no     10     no\n",
       "1  ID_f29eb3ddd  0e5d7a658          8     12     no\n",
       "2  ID_68de51c94  2c7317ea8          8     no     11\n",
       "3  ID_d671db89c  2b58d945f        yes     11     no\n",
       "4  ID_d56d6f5f5  2b58d945f        yes     11     no"
      ]
     },
     "execution_count": 164,
     "metadata": {},
     "output_type": "execute_result"
    }
   ],
   "source": [
    "Income_train_df[['Id', 'idhogar', 'dependency', 'edjefe', 'edjefa']].head()"
   ]
  },
  {
   "cell_type": "markdown",
   "id": "8163a30b",
   "metadata": {},
   "source": [
    "### from the income qualification project description\n",
    "101. dependency, Dependency rate, calculated = (number of members of the household\n",
    "younger than 19 or older than 64)/(number of member of household between 19 and 64)\n",
    "102. edjefe, years of education of male head of household, based on the interaction of\n",
    "escolari (years of education), head of household and gender, yes=1 and no=0\n",
    "103. edjefa, years of education of female head of household, based on the interaction of\n",
    "escolari (years of education), head of household and gender, yes=1 and no=0"
   ]
  },
  {
   "cell_type": "code",
   "execution_count": 165,
   "id": "21ac509e",
   "metadata": {},
   "outputs": [
    {
     "data": {
      "text/plain": [
       "Index(['Id', 'idhogar'], dtype='object')"
      ]
     },
     "execution_count": 165,
     "metadata": {},
     "output_type": "execute_result"
    }
   ],
   "source": [
    "# fix the three object features 'dependency', 'edjefe', 'edjefa', with yes=1 and no=0\n",
    "# train df\n",
    "Income_train_df[[ 'dependency', 'edjefe', 'edjefa']] = Income_train_df[[ 'dependency', 'edjefe', 'edjefa']].replace({'yes': 1, 'no': 0}).astype(np.float64)\n",
    "Income_train_df.select_dtypes(np.object).columns"
   ]
  },
  {
   "cell_type": "code",
   "execution_count": 166,
   "id": "67f3c845",
   "metadata": {},
   "outputs": [
    {
     "data": {
      "text/plain": [
       "Index(['Id', 'idhogar'], dtype='object')"
      ]
     },
     "execution_count": 166,
     "metadata": {},
     "output_type": "execute_result"
    }
   ],
   "source": [
    "#test df \n",
    "Income_test_df[[ 'dependency', 'edjefe', 'edjefa']] = Income_test_df[[ 'dependency', 'edjefe', 'edjefa']].replace({'yes': 1, 'no': 0}).astype(np.float64)\n",
    "Income_test_df.select_dtypes(np.object).columns"
   ]
  },
  {
   "cell_type": "markdown",
   "id": "de7839e0",
   "metadata": {},
   "source": [
    "### Features with the same information:\n",
    "1. Household size:\n",
    "    * tamhog, size of the household\n",
    "    * hhsize, household size\n",
    "-----------------------------------------------------------------------------------\n",
    "2. Total number of persons in household:\n",
    "    * hogar_total, # of total individuals in the household\n",
    "    * r4t3, Total persons in the household\n",
    "    * tamviv, number of persons living in the household\n",
    "\n",
    "keep 'tamviv' and  'hhsize' and drop 'hogar_total', 'r4t3', 'tamhog'"
   ]
  },
  {
   "cell_type": "code",
   "execution_count": 167,
   "id": "eb5cd82d",
   "metadata": {},
   "outputs": [
    {
     "name": "stdout",
     "output_type": "stream",
     "text": [
      "The shape of the train dataset is:  (9557, 143)\n",
      "The shape of the test dataset is:  (23856, 142)\n",
      "The shape of the train dataset is:  (9557, 129)\n",
      "The shape of the test dataset is:  (23856, 128)\n"
     ]
    }
   ],
   "source": [
    "print('The shape of the train dataset is: ',Income_train_df.shape)\n",
    "print('The shape of the test dataset is: ',Income_test_df.shape)\n",
    "\n",
    "\n",
    "# drpo columns \n",
    "columns = ['Id', 'idhogar', 'hogar_total', 'r4t3', 'tamhog', 'SQBescolari', 'SQBage', 'SQBhogar_total',\n",
    "           'SQBedjefe', 'SQBhogar_nin', 'SQBovercrowding', 'SQBdependency', 'SQBmeaned', 'agesq']\n",
    "\n",
    "Income_train_df.drop(columns, axis=1, inplace= True)\n",
    "Income_test_df.drop(columns, axis=1, inplace= True)\n",
    "\n",
    "print('The shape of the train dataset is: ',Income_train_df.shape)\n",
    "print('The shape of the test dataset is: ',Income_test_df.shape)"
   ]
  },
  {
   "cell_type": "code",
   "execution_count": 168,
   "id": "354ceaea",
   "metadata": {},
   "outputs": [],
   "source": [
    "# split train dataset unto train and validation set \n",
    "x = Income_train_df.drop(['Target'], axis=1) \n",
    "y = Income_train_df['Target']\n",
    "x_train, x_valid, y_train, y_valid = train_test_split(x, y, test_size=0.25, random_state=42)"
   ]
  },
  {
   "cell_type": "code",
   "execution_count": 169,
   "id": "cbdb8e62",
   "metadata": {},
   "outputs": [],
   "source": [
    "# Predict the accuracy using random forest classifier.\n",
    "rfc = RandomForestClassifier(random_state=10)\n",
    "rfc.fit(x_train, y_train)\n",
    "y_predict = rfc.predict(x_valid)"
   ]
  },
  {
   "cell_type": "code",
   "execution_count": 170,
   "id": "412e96ff",
   "metadata": {},
   "outputs": [
    {
     "name": "stdout",
     "output_type": "stream",
     "text": [
      "0.9368200836820084\n",
      "[[ 185    1    0   26]\n",
      " [   4  332    0   41]\n",
      " [   0    7  241   62]\n",
      " [   0    8    2 1481]]\n",
      "              precision    recall  f1-score   support\n",
      "\n",
      "           1       0.98      0.87      0.92       212\n",
      "           2       0.95      0.88      0.92       377\n",
      "           3       0.99      0.78      0.87       310\n",
      "           4       0.92      0.99      0.96      1491\n",
      "\n",
      "    accuracy                           0.94      2390\n",
      "   macro avg       0.96      0.88      0.92      2390\n",
      "weighted avg       0.94      0.94      0.94      2390\n",
      "\n"
     ]
    }
   ],
   "source": [
    "print(accuracy_score(y_valid,y_predict))\n",
    "print(confusion_matrix(y_valid,y_predict))\n",
    "print(classification_report(y_valid,y_predict))"
   ]
  },
  {
   "cell_type": "code",
   "execution_count": 171,
   "id": "365470b8",
   "metadata": {},
   "outputs": [
    {
     "data": {
      "text/plain": [
       "array([4, 4, 4, ..., 4, 4, 4], dtype=int64)"
      ]
     },
     "execution_count": 171,
     "metadata": {},
     "output_type": "execute_result"
    }
   ],
   "source": [
    "y_predict_testdata = rfc.predict(Income_test_df)\n",
    "y_predict_testdata"
   ]
  },
  {
   "cell_type": "code",
   "execution_count": 172,
   "id": "92637215",
   "metadata": {},
   "outputs": [
    {
     "data": {
      "text/html": [
       "<div>\n",
       "<style scoped>\n",
       "    .dataframe tbody tr th:only-of-type {\n",
       "        vertical-align: middle;\n",
       "    }\n",
       "\n",
       "    .dataframe tbody tr th {\n",
       "        vertical-align: top;\n",
       "    }\n",
       "\n",
       "    .dataframe thead th {\n",
       "        text-align: right;\n",
       "    }\n",
       "</style>\n",
       "<table border=\"1\" class=\"dataframe\">\n",
       "  <thead>\n",
       "    <tr style=\"text-align: right;\">\n",
       "      <th></th>\n",
       "      <th>feature</th>\n",
       "      <th>importance</th>\n",
       "    </tr>\n",
       "  </thead>\n",
       "  <tbody>\n",
       "    <tr>\n",
       "      <th>98</th>\n",
       "      <td>meaneduc</td>\n",
       "      <td>0.070872</td>\n",
       "    </tr>\n",
       "    <tr>\n",
       "      <th>95</th>\n",
       "      <td>dependency</td>\n",
       "      <td>0.044571</td>\n",
       "    </tr>\n",
       "    <tr>\n",
       "      <th>109</th>\n",
       "      <td>overcrowding</td>\n",
       "      <td>0.033346</td>\n",
       "    </tr>\n",
       "    <tr>\n",
       "      <th>92</th>\n",
       "      <td>hogar_nin</td>\n",
       "      <td>0.030883</td>\n",
       "    </tr>\n",
       "    <tr>\n",
       "      <th>96</th>\n",
       "      <td>edjefe</td>\n",
       "      <td>0.029759</td>\n",
       "    </tr>\n",
       "  </tbody>\n",
       "</table>\n",
       "</div>"
      ],
      "text/plain": [
       "          feature  importance\n",
       "98       meaneduc    0.070872\n",
       "95     dependency    0.044571\n",
       "109  overcrowding    0.033346\n",
       "92      hogar_nin    0.030883\n",
       "96         edjefe    0.029759"
      ]
     },
     "execution_count": 172,
     "metadata": {},
     "output_type": "execute_result"
    }
   ],
   "source": [
    "f_importances = pd.DataFrame({'feature': x.columns, 'importance': rfc.feature_importances_}) \n",
    "f_importances.sort_values(by='importance', ascending = False, inplace = True)\n",
    "f_importances.head()"
   ]
  },
  {
   "cell_type": "code",
   "execution_count": 173,
   "id": "5c17b1e4",
   "metadata": {},
   "outputs": [
    {
     "name": "stdout",
     "output_type": "stream",
     "text": [
      "[0.94194561 0.93776151 0.94871795 0.94400837 0.94557823]\n"
     ]
    }
   ],
   "source": [
    "# Check the accuracy using a random forest with cross-validation.\n",
    "Stratified_KFold = StratifiedKFold(n_splits=5,shuffle=True,random_state=7)\n",
    "print(cross_val_score(rfc, x, y, cv=Stratified_KFold, scoring='accuracy'))"
   ]
  }
 ],
 "metadata": {
  "kernelspec": {
   "display_name": "Python 3",
   "language": "python",
   "name": "python3"
  },
  "language_info": {
   "codemirror_mode": {
    "name": "ipython",
    "version": 3
   },
   "file_extension": ".py",
   "mimetype": "text/x-python",
   "name": "python",
   "nbconvert_exporter": "python",
   "pygments_lexer": "ipython3",
   "version": "3.8.10"
  }
 },
 "nbformat": 4,
 "nbformat_minor": 5
}
